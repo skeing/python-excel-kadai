{
  "nbformat": 4,
  "nbformat_minor": 0,
  "metadata": {
    "colab": {
      "provenance": []
    },
    "kernelspec": {
      "name": "python3",
      "display_name": "Python 3"
    },
    "language_info": {
      "name": "python"
    }
  },
  "cells": [
    {
      "cell_type": "code",
      "source": [
        "import pandas as pd\n",
        "from openpyxl import load_workbook\n",
        "from openpyxl import Workbook\n",
        "from openpyxl.utils.dataframe import dataframe_to_rows\n",
        "from openpyxl.styles import PatternFill\n",
        "\n",
        "# 読み込むExcelファイルのパス\n",
        "excel_file_path_2022 = '2022_年間売上表.xlsx'\n",
        "excel_file_path_2023 = '2023_年間売上表.xlsx'\n",
        "\n",
        "# Excelファイルからデータを読み込む\n",
        "df_2022 = pd.read_excel(excel_file_path_2022)\n",
        "df_2023 = pd.read_excel(excel_file_path_2023)\n",
        "\n",
        "# 縦方向に連結\n",
        "df = pd.concat([df_2022, df_2023], axis=0)\n",
        "\n",
        "# カラムA、カラムBごとにグループ化して合計を計算\n",
        "df_grouped = df.groupby(['商品', '売上年']).sum().reset_index()\n",
        "\n",
        "# ファイル名を生成\n",
        "file_path = \"./売上集計表.xlsx\"\n",
        "\n",
        "# ファイル保存\n",
        "df_grouped.to_excel(file_path, index=False)\n",
        "\n",
        "# データフレームの内容を表示する\n",
        "print(df_grouped)\n",
        "\n",
        "# Openpyxlでファイルを読み込み\n",
        "wb = load_workbook(file_path)\n",
        "ws = wb.active\n",
        "\n",
        "# ヘッダーに色を付ける（ここでは黄色）\n",
        "header_fill = PatternFill(start_color=\"F2F2F2\", end_color=\"F2F2F2\", fill_type=\"solid\")\n",
        "\n",
        "for cell in ws[1]:  # 1行目（ヘッダー行）に色を付ける\n",
        "    cell.fill = header_fill\n",
        "\n",
        "# 最終ファイル名を生成\n",
        "wb.save(file_path)"
      ],
      "metadata": {
        "colab": {
          "base_uri": "https://localhost:8080/"
        },
        "id": "yCaXs8wo6i38",
        "outputId": "191b70b7-6b26-4f4c-b8e2-31b98479415c"
      },
      "execution_count": 3,
      "outputs": [
        {
          "output_type": "stream",
          "name": "stdout",
          "text": [
            "          商品   売上年  金額（千円）\n",
            "0   アロマキャンドル  2022    1710\n",
            "1   アロマキャンドル  2023     900\n",
            "2      コーヒー豆  2023     860\n",
            "3       セッケン  2022    1300\n",
            "4       セッケン  2023    1300\n",
            "5       ハチミツ  2022    1860\n",
            "6       ハチミツ  2023    1000\n",
            "7      フライパン  2023     670\n",
            "8     ワイングラス  2022     850\n",
            "9     ワイングラス  2023     850\n",
            "10        包丁  2022     940\n",
            "11        包丁  2023     940\n",
            "12        水筒  2022    1150\n",
            "13        水筒  2023    1400\n",
            "14        紅茶  2022    2000\n",
            "15        紅茶  2023    1870\n"
          ]
        }
      ]
    }
  ]
}