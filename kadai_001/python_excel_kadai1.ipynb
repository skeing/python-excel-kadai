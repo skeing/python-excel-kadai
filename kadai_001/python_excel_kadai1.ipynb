{
  "nbformat": 4,
  "nbformat_minor": 0,
  "metadata": {
    "colab": {
      "provenance": []
    },
    "kernelspec": {
      "name": "python3",
      "display_name": "Python 3"
    },
    "language_info": {
      "name": "python"
    }
  },
  "cells": [
    {
      "cell_type": "code",
      "execution_count": 4,
      "metadata": {
        "id": "isYuVvGAAmRu"
      },
      "outputs": [],
      "source": [
        "# -*- coding: utf-8 -*-\n",
        "import openpyxl\n",
        "import os\n",
        "import datetime\n",
        "\n",
        "wb = openpyxl.Workbook()\n",
        "ws = wb.active\n",
        "ws.title = \"シート1\"\n",
        "name = \"請求書\"\n",
        "\n",
        "# 現在の日時を取得\n",
        "now = datetime.datetime.now()\n",
        "# 日付をフォーマット\n",
        "now_md = now.strftime(\"%Y%m%d\")\n",
        "now_md2 = now.strftime(\"%Y/%m/%d\")\n",
        "\n",
        "num1 = 2\n",
        "num2 = 1\n",
        "item1 = 10000\n",
        "item2 = 15000\n",
        "price1 = num1 * item1\n",
        "price2 = num2 * item2\n",
        "sum1 = price1+price2\n",
        "tax = sum1*0.1\n",
        "sum2 = sum1 + tax\n",
        "\n",
        "b_dict = {'B2':name, 'B4':\"株式会社ABC\",\n",
        "          'B5':\"〒101-0022 東京都千代田区神田練塀町300\",\n",
        "          'B6':\"TEL:03-1234-5678 FAX:03-1234-5678\",\n",
        "          'B7':\"株式会社ABC\",\n",
        "          'B10':\"商品名\",'B11':\"商品A\",'B12':\"商品B\",\n",
        "          'B15':\"合計\",'B16':\"消費税\",'B17':\"税込合計\"}\n",
        "c_dict = {'C10':\"数量\",'C11':num1,'C12':num2}\n",
        "d_dict = {'D10':\"単価\",'D11':item1,'D12':item2}\n",
        "e_dict = {'E10':\"金額\",'E11':price1,'E12':price2,'E13':sum1,\n",
        "          'E15':sum1,'E16':tax,'E17':sum2}\n",
        "f_dict = {'F4':\"No.\", 'F5':\"日付\"}\n",
        "g_dict = {'G4':'0001', 'G5':now_md2}\n",
        "\n",
        "coloums = [b_dict,c_dict,d_dict,e_dict,f_dict,g_dict]\n",
        "\n",
        "for coloum in coloums:\n",
        "    for key, value in coloum.items():\n",
        "        ws[key] = value\n",
        "\n",
        "# ファイル名を生成\n",
        "file_path = f\"./{name}_{now_md}.xlsx\"\n",
        "\n",
        "# ファイル保存\n",
        "wb.save(file_path)"
      ]
    },
    {
      "cell_type": "code",
      "source": [],
      "metadata": {
        "id": "XWcmACCHPrCT"
      },
      "execution_count": null,
      "outputs": []
    }
  ]
}