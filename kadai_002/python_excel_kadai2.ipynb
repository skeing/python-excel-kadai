{
  "nbformat": 4,
  "nbformat_minor": 0,
  "metadata": {
    "colab": {
      "provenance": []
    },
    "kernelspec": {
      "name": "python3",
      "display_name": "Python 3"
    },
    "language_info": {
      "name": "python"
    }
  },
  "cells": [
    {
      "cell_type": "code",
      "execution_count": 2,
      "metadata": {
        "colab": {
          "base_uri": "https://localhost:8080/"
        },
        "id": "b9pqn_0CxQZE",
        "outputId": "14182c11-25e4-4c1d-8445-ccb5bc546722"
      },
      "outputs": [
        {
          "output_type": "stream",
          "name": "stdout",
          "text": [
            "           日付 社員名   売上    部門    平均値 業績ランク\n",
            "0  2023-05-17  山田  100  メーカー  200.0     C\n",
            "1  2023-05-18  佐藤  200   代理店  200.0     B\n",
            "2  2023-05-19  鈴木  150  メーカー  200.0     C\n",
            "3  2023-05-20  田中  300    商社  200.0     A\n",
            "4  2023-05-21  高橋  250   代理店  200.0     A\n"
          ]
        }
      ],
      "source": [
        "# -*- coding: utf-8 -*-\n",
        "import pandas as pd\n",
        "import openpyxl\n",
        "\n",
        "name = \"業績\"\n",
        "\n",
        "# データの作成\n",
        "data = {\n",
        "    '日付': ['2023-05-17', '2023-05-18', '2023-05-19', '2023-05-20', '2023-05-21'],\n",
        "    '社員名': ['山田', '佐藤', '鈴木', '田中', '高橋'],\n",
        "    '売上': [100, 200, 150, 300, 250],\n",
        "    '部門': ['メーカー', '代理店', 'メーカー', '商社', '代理店']\n",
        "    }\n",
        "# データフレームの作成\n",
        "df = pd.DataFrame(data)\n",
        "\n",
        "# meanの算出\n",
        "mean = df['売上'].mean()\n",
        "\n",
        "# 平均値の列を追加\n",
        "df['平均値'] = mean\n",
        "\n",
        "# performance関数の定義\n",
        "def performance(value):\n",
        "    if value >= mean + 50:\n",
        "        return 'A'\n",
        "    elif value >= mean:\n",
        "        return 'B'\n",
        "    else:\n",
        "        return 'C'\n",
        "\n",
        "# .applyメソッドを使ってperformance関数を売上列に適用\n",
        "df['業績ランク'] = df['売上'].apply(performance)\n",
        "\n",
        "# 結果の表示\n",
        "print(df)\n",
        "\n",
        "# ファイル名を生成\n",
        "file_path = f\"./{name}.xlsx\"\n",
        "\n",
        "# ファイル保存\n",
        "df.to_excel(file_path, index=False)"
      ]
    }
  ]
}